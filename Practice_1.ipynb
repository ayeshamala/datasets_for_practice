{
 "cells": [
  {
   "cell_type": "markdown",
   "id": "0a7a05d4-2734-4d20-b4df-d08ee1325403",
   "metadata": {},
   "source": [
    "## **Question - Which product category and location should we target for our next ad campaign?**"
   ]
  },
  {
   "cell_type": "code",
   "execution_count": 32,
   "id": "748d48da-4d79-440d-885f-540f1f4468fa",
   "metadata": {},
   "outputs": [],
   "source": [
    "# import required python packages\n",
    "\n",
    "import pandas as pd\n",
    "import matplotlib.pyplot as plt"
   ]
  },
  {
   "cell_type": "code",
   "execution_count": 34,
   "id": "a7af93d1-e41b-4120-a4df-9bb99edba4af",
   "metadata": {},
   "outputs": [
    {
     "data": {
      "text/html": [
       "<div>\n",
       "<style scoped>\n",
       "    .dataframe tbody tr th:only-of-type {\n",
       "        vertical-align: middle;\n",
       "    }\n",
       "\n",
       "    .dataframe tbody tr th {\n",
       "        vertical-align: top;\n",
       "    }\n",
       "\n",
       "    .dataframe thead th {\n",
       "        text-align: right;\n",
       "    }\n",
       "</style>\n",
       "<table border=\"1\" class=\"dataframe\">\n",
       "  <thead>\n",
       "    <tr style=\"text-align: right;\">\n",
       "      <th></th>\n",
       "      <th>transaction_ID</th>\n",
       "      <th>date</th>\n",
       "      <th>product_category</th>\n",
       "      <th>product_name</th>\n",
       "      <th>units_sold</th>\n",
       "      <th>unit_price</th>\n",
       "      <th>total_revenue</th>\n",
       "      <th>location</th>\n",
       "    </tr>\n",
       "  </thead>\n",
       "  <tbody>\n",
       "    <tr>\n",
       "      <th>0</th>\n",
       "      <td>10001</td>\n",
       "      <td>2024-01-01</td>\n",
       "      <td>Electronics</td>\n",
       "      <td>iPhone 14 Pro</td>\n",
       "      <td>2</td>\n",
       "      <td>999.99</td>\n",
       "      <td>1999.98</td>\n",
       "      <td>North America</td>\n",
       "    </tr>\n",
       "    <tr>\n",
       "      <th>1</th>\n",
       "      <td>10002</td>\n",
       "      <td>2024-01-02</td>\n",
       "      <td>Home Appliances</td>\n",
       "      <td>Dyson V11 Vacuum</td>\n",
       "      <td>1</td>\n",
       "      <td>499.99</td>\n",
       "      <td>499.99</td>\n",
       "      <td>Europe</td>\n",
       "    </tr>\n",
       "    <tr>\n",
       "      <th>2</th>\n",
       "      <td>10003</td>\n",
       "      <td>2024-01-03</td>\n",
       "      <td>Clothing</td>\n",
       "      <td>Levi's 501 Jeans</td>\n",
       "      <td>3</td>\n",
       "      <td>69.99</td>\n",
       "      <td>209.97</td>\n",
       "      <td>Asia</td>\n",
       "    </tr>\n",
       "    <tr>\n",
       "      <th>3</th>\n",
       "      <td>10004</td>\n",
       "      <td>2024-01-04</td>\n",
       "      <td>Books</td>\n",
       "      <td>The Da Vinci Code</td>\n",
       "      <td>4</td>\n",
       "      <td>15.99</td>\n",
       "      <td>63.96</td>\n",
       "      <td>North America</td>\n",
       "    </tr>\n",
       "    <tr>\n",
       "      <th>4</th>\n",
       "      <td>10005</td>\n",
       "      <td>2024-01-05</td>\n",
       "      <td>Beauty Products</td>\n",
       "      <td>Neutrogena Skincare Set</td>\n",
       "      <td>1</td>\n",
       "      <td>89.99</td>\n",
       "      <td>89.99</td>\n",
       "      <td>Europe</td>\n",
       "    </tr>\n",
       "  </tbody>\n",
       "</table>\n",
       "</div>"
      ],
      "text/plain": [
       "   transaction_ID        date product_category             product_name  \\\n",
       "0           10001  2024-01-01      Electronics            iPhone 14 Pro   \n",
       "1           10002  2024-01-02  Home Appliances         Dyson V11 Vacuum   \n",
       "2           10003  2024-01-03         Clothing         Levi's 501 Jeans   \n",
       "3           10004  2024-01-04            Books        The Da Vinci Code   \n",
       "4           10005  2024-01-05  Beauty Products  Neutrogena Skincare Set   \n",
       "\n",
       "   units_sold  unit_price  total_revenue       location  \n",
       "0           2      999.99        1999.98  North America  \n",
       "1           1      499.99         499.99         Europe  \n",
       "2           3       69.99         209.97           Asia  \n",
       "3           4       15.99          63.96  North America  \n",
       "4           1       89.99          89.99         Europe  "
      ]
     },
     "execution_count": 34,
     "metadata": {},
     "output_type": "execute_result"
    }
   ],
   "source": [
    "# importing dataset\n",
    "data_url = 'E:/Practicing - Data Analytics/practice_sales_data.csv'\n",
    "df = pd.read_csv(data_url)\n",
    "\n",
    "#printing first 5 rows of the dataset\n",
    "df.head()"
   ]
  },
  {
   "cell_type": "code",
   "execution_count": 36,
   "id": "cc3eb76a-ba97-416f-875b-c55453ba5c6e",
   "metadata": {},
   "outputs": [
    {
     "name": "stdout",
     "output_type": "stream",
     "text": [
      "<class 'pandas.core.frame.DataFrame'>\n",
      "RangeIndex: 245 entries, 0 to 244\n",
      "Data columns (total 8 columns):\n",
      " #   Column            Non-Null Count  Dtype  \n",
      "---  ------            --------------  -----  \n",
      " 0   transaction_ID    245 non-null    int64  \n",
      " 1   date              245 non-null    object \n",
      " 2   product_category  245 non-null    object \n",
      " 3   product_name      245 non-null    object \n",
      " 4   units_sold        245 non-null    int64  \n",
      " 5   unit_price        245 non-null    float64\n",
      " 6   total_revenue     245 non-null    float64\n",
      " 7   location          245 non-null    object \n",
      "dtypes: float64(2), int64(2), object(4)\n",
      "memory usage: 15.4+ KB\n"
     ]
    }
   ],
   "source": [
    "# inspect the data\n",
    "\n",
    "df.info()"
   ]
  },
  {
   "cell_type": "code",
   "execution_count": null,
   "id": "1f104703-4e73-481f-ba26-84e84a40cafc",
   "metadata": {},
   "outputs": [],
   "source": [
    "#which product category and location to target for add campaign?\n",
    "# we'll need to find out the percentage revenue for sum of products in each category based on their locations\n",
    "\n",
    "#sum of the revenues of all transactions\n",
    "total_revenue = df['total_revenue'].sum()\n",
    "\n",
    "#revenue of products categorized by product category and location\n",
    "revenue_per_category_and_location = df.groupby(['product_category','location'])['total_revenue'].sum()\n",
    "\n",
    "#percentage proportions up to 2 decimal places of revenues for product categories and locations\n",
    "prct_prod_cat_loc = ((revenue_per_category_and_location / total_revenue) * 100).round(2)\n",
    "\n",
    "prct_prod_cat_loc\n"
   ]
  },
  {
   "cell_type": "code",
   "execution_count": 61,
   "id": "3c93c642-901e-4105-bfb4-7dad2de55887",
   "metadata": {},
   "outputs": [
    {
     "data": {
      "text/plain": [
       "product_category  location     \n",
       "Electronics       North America    41.93\n",
       "Home Appliances   Europe           22.35\n",
       "Sports            Asia             17.17\n",
       "Clothing          Asia              9.74\n",
       "Beauty Products   Europe            3.14\n",
       "Electronics       Asia              2.24\n",
       "Books             North America     2.23\n",
       "Electronics       Europe            1.20\n",
       "Name: total_revenue, dtype: float64"
      ]
     },
     "execution_count": 61,
     "metadata": {},
     "output_type": "execute_result"
    }
   ],
   "source": [
    "#sorting the values in descending order \n",
    "\n",
    "sort_revenue = prct_prod_cat_loc.sort_values(ascending=False)\n",
    "\n",
    "sort_revenue"
   ]
  },
  {
   "cell_type": "markdown",
   "id": "23d6e741-2adf-43c6-a423-2012192fe26e",
   "metadata": {},
   "source": [
    "### This is the product category and location we should target for the next ad campaign:"
   ]
  },
  {
   "cell_type": "code",
   "execution_count": 78,
   "id": "edc1b9b9-895d-43ef-9454-ea97ed5b9073",
   "metadata": {},
   "outputs": [
    {
     "data": {
      "text/plain": [
       "product_category  location     \n",
       "Electronics       North America    41.93\n",
       "Name: total_revenue, dtype: float64"
      ]
     },
     "execution_count": 78,
     "metadata": {},
     "output_type": "execute_result"
    }
   ],
   "source": [
    "#printing the top performing location and product category\n",
    "\n",
    "sort_revenue.head(1)"
   ]
  },
  {
   "cell_type": "code",
   "execution_count": null,
   "id": "5f14c7e4-aa00-4596-b42e-2454baa80b0c",
   "metadata": {},
   "outputs": [],
   "source": []
  }
 ],
 "metadata": {
  "kernelspec": {
   "display_name": "Python [conda env:base] *",
   "language": "python",
   "name": "conda-base-py"
  },
  "language_info": {
   "codemirror_mode": {
    "name": "ipython",
    "version": 3
   },
   "file_extension": ".py",
   "mimetype": "text/x-python",
   "name": "python",
   "nbconvert_exporter": "python",
   "pygments_lexer": "ipython3",
   "version": "3.12.7"
  }
 },
 "nbformat": 4,
 "nbformat_minor": 5
}
